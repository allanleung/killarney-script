{
 "cells": [
  {
   "cell_type": "code",
   "execution_count": 18,
   "metadata": {},
   "outputs": [
    {
     "name": "stdout",
     "output_type": "stream",
     "text": [
      "No change for: 'KCCS-Board-Meeting-Minutes-Mar-26-2024.pdf'\n",
      "No change for: 'KCCS-Board-Meeting-Minutes-Jan-30-2024.pdf'\n",
      "No change for: 'KCCS-Board-Meeting-Minutes-April-23-2024.pdf'\n",
      "No change for: 'AGM-Meeting-Minutes-Oct-22-2024.pdf'\n",
      "No change for: 'KCCS-Board-Meeting-Minutes-Oct-24-2023.pdf'\n",
      "No change for: 'KCCS-Board-Meeting-Minutes-Nov-28-2023.pdf'\n",
      "No change for: 'KCCS-Board-Meeting-Minutes-September-24-2024.pdf'\n",
      "No change for: 'KCCS-Board-Meeting-Minutes-Sept-26-2023.pdf'\n",
      "File renaming completed!\n"
     ]
    }
   ],
   "source": [
    "import os\n",
    "import glob\n",
    "import re\n",
    "\n",
    "# Step 1: Define the folder path containing the PDF files\n",
    "folder_path = \"/\"  # Change this to your folder's path\n",
    "\n",
    "# Step 2: List and process all PDF files in the folder\n",
    "pdf_files = glob.glob(os.path.join(folder_path, \"*.pdf\"))\n",
    "\n",
    "# Step 2: Define constants for unwanted patterns\n",
    "REMOVE_PATTERNS = [\n",
    "    r\"-J-\",  # Example: Remove 'J' along with surrounding hyphens\n",
    "    r\"[^a-zA-Z0-9.-]+\",  # Remove any character not in allowed set\n",
    "]\n",
    "\n",
    "# Step 3: List and process all PDF files in the folder\n",
    "pdf_files = glob.glob(os.path.join(folder_path, \"*.pdf\"))\n",
    "\n",
    "# Step 4: Rename files to replace spaces with hyphens and clean patterns\n",
    "for file in pdf_files:\n",
    "    # Extract the file name from the full path\n",
    "    base_dir, file_name = os.path.split(file)\n",
    "\n",
    "    # Apply each remove pattern\n",
    "    new_file_name = file_name\n",
    "    for pattern in REMOVE_PATTERNS:\n",
    "        new_file_name = re.sub(pattern, \"-\", new_file_name)\n",
    "    \n",
    "    # Replace spaces with hyphens explicitly\n",
    "    new_file_name = new_file_name.replace(\" \", \"-\")\n",
    "\n",
    "    # Replace underscores with hyphens\n",
    "    new_file_name = new_file_name.replace(\"_\", \"-\")\n",
    "\n",
    "    # Ensure no consecutive hyphens\n",
    "    new_file_name = re.sub(r\"-+\", \"-\", new_file_name)\n",
    "\n",
    "    # Remove trailing hyphens\n",
    "    new_file_name = new_file_name.strip(\"-\")\n",
    "    \n",
    "    # Generate the full new file path\n",
    "    new_file_path = os.path.join(base_dir, new_file_name)\n",
    "    \n",
    "    # Rename the file\n",
    "    if file != new_file_path:  # Avoid renaming if no change\n",
    "        os.rename(file, new_file_path)\n",
    "        print(f\"Renamed: '{file_name}' -> '{new_file_name}'\")\n",
    "    else:\n",
    "        print(f\"No change for: '{file_name}'\")\n",
    "\n",
    "print(\"File renaming completed!\")\n",
    "\n"
   ]
  }
 ],
 "metadata": {
  "kernelspec": {
   "display_name": "Python 3",
   "language": "python",
   "name": "python3"
  },
  "language_info": {
   "codemirror_mode": {
    "name": "ipython",
    "version": 3
   },
   "file_extension": ".py",
   "mimetype": "text/x-python",
   "name": "python",
   "nbconvert_exporter": "python",
   "pygments_lexer": "ipython3",
   "version": "3.10.2"
  }
 },
 "nbformat": 4,
 "nbformat_minor": 2
}
